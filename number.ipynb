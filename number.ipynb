{
  "nbformat": 4,
  "nbformat_minor": 0,
  "metadata": {
    "colab": {
      "name": "Untitled0.ipynb",
      "provenance": []
    },
    "kernelspec": {
      "name": "python3",
      "display_name": "Python 3"
    }
  },
  "cells": [
    {
      "cell_type": "code",
      "metadata": {
        "id": "3yHw7gU1p-Jz",
        "colab_type": "code",
        "colab": {}
      },
      "source": [
        "import keras\n",
        "from keras.datasets import mnist\n",
        "from keras.models import Sequential\n",
        "from keras.layers import Dense, Dropout, Flatten\n",
        "from keras.layers import Conv2D, MaxPooling2D\n",
        "from keras import backend as K"
      ],
      "execution_count": 0,
      "outputs": []
    },
    {
      "cell_type": "code",
      "metadata": {
        "id": "Re7nIOhOqHV4",
        "colab_type": "code",
        "colab": {}
      },
      "source": [
        "num_classes = 10\n",
        "batch_size = 128\n",
        "epochs = 12"
      ],
      "execution_count": 0,
      "outputs": []
    },
    {
      "cell_type": "code",
      "metadata": {
        "id": "15Dk2XxQqLmC",
        "colab_type": "code",
        "colab": {}
      },
      "source": [
        "# Image Resolution\n",
        "\n",
        "img_rows, img_cols = 28, 28\n",
        "\n",
        "# Loading the data.\n",
        "\n",
        "(x_train, y_train), (x_test, y_test) = mnist.load_data()"
      ],
      "execution_count": 0,
      "outputs": []
    },
    {
      "cell_type": "code",
      "metadata": {
        "id": "7wXeoFb6qOgP",
        "colab_type": "code",
        "outputId": "b434243b-5703-4949-e805-f4ab201e3f3a",
        "colab": {
          "base_uri": "https://localhost:8080/",
          "height": 68
        }
      },
      "source": [
        "if K.image_data_format() == 'channels_first':\n",
        "    x_train = x_train.reshape(x_train.shape[0], 1, img_rows, img_cols)\n",
        "    x_test = x_test.reshape(x_test.shape[0], 1, img_rows, img_cols)\n",
        "    input_shape = (1, img_rows, img_cols)\n",
        "else:\n",
        "    x_train = x_train.reshape(x_train.shape[0], img_rows, img_cols, 1)\n",
        "    x_test = x_test.reshape(x_test.shape[0], img_rows, img_cols, 1)\n",
        "    input_shape = (img_rows, img_cols, 1)\n",
        "\n",
        "\n",
        "x_train = x_train.astype('float32')\n",
        "x_test = x_test.astype('float32')\n",
        "x_train /= 255\n",
        "x_test /= 255\n",
        "print('x_train shape:', x_train.shape)\n",
        "print(x_train.shape[0], 'train samples')\n",
        "print(x_test.shape[0], 'test samples')\n",
        "\n",
        "y_train = keras.utils.to_categorical(y_train, num_classes)\n",
        "y_test = keras.utils.to_categorical(y_test, num_classes)\n"
      ],
      "execution_count": 14,
      "outputs": [
        {
          "output_type": "stream",
          "text": [
            "x_train shape: (60000, 28, 28, 1)\n",
            "60000 train samples\n",
            "10000 test samples\n"
          ],
          "name": "stdout"
        }
      ]
    },
    {
      "cell_type": "code",
      "metadata": {
        "id": "OSAHewjIZClU",
        "colab_type": "code",
        "colab": {}
      },
      "source": [
        "model = Sequential()\n",
        "model.add(Conv2D(32, kernel_size=(3, 3),activation='relu',input_shape=input_shape))\n",
        "model.add(Conv2D(64, (3, 3), activation='relu'))\n",
        "model.add(MaxPooling2D(pool_size=(2, 2)))\n",
        "model.add(Dropout(0.25))\n",
        "model.add(Flatten())\n",
        "model.add(Dense(128, activation='relu'))\n",
        "model.add(Dropout(0.5))\n",
        "model.add(Dense(num_classes, activation='softmax'))\n",
        "model.compile(loss=keras.losses.categorical_crossentropy,\n",
        "              optimizer=keras.optimizers.Adadelta(),\n",
        "              metrics=['accuracy'])"
      ],
      "execution_count": 0,
      "outputs": []
    },
    {
      "cell_type": "code",
      "metadata": {
        "id": "wdEKs8bhZDhc",
        "colab_type": "code",
        "outputId": "9ee8b11c-0ee1-481f-ec55-142b77c64625",
        "colab": {
          "base_uri": "https://localhost:8080/",
          "height": 459
        }
      },
      "source": [
        "model.fit(x_train, y_train,\n",
        "          batch_size=batch_size,\n",
        "          epochs=epochs,\n",
        "          verbose=1,\n",
        "          validation_data=(x_test, y_test))"
      ],
      "execution_count": 16,
      "outputs": [
        {
          "output_type": "stream",
          "text": [
            "Train on 60000 samples, validate on 10000 samples\n",
            "Epoch 1/12\n",
            "60000/60000 [==============================] - 141s 2ms/step - loss: 0.2569 - accuracy: 0.9207 - val_loss: 0.0598 - val_accuracy: 0.9812\n",
            "Epoch 2/12\n",
            "60000/60000 [==============================] - 140s 2ms/step - loss: 0.0874 - accuracy: 0.9739 - val_loss: 0.0451 - val_accuracy: 0.9851\n",
            "Epoch 3/12\n",
            "60000/60000 [==============================] - 140s 2ms/step - loss: 0.0648 - accuracy: 0.9804 - val_loss: 0.0369 - val_accuracy: 0.9874\n",
            "Epoch 4/12\n",
            "60000/60000 [==============================] - 140s 2ms/step - loss: 0.0534 - accuracy: 0.9838 - val_loss: 0.0346 - val_accuracy: 0.9879\n",
            "Epoch 5/12\n",
            "60000/60000 [==============================] - 141s 2ms/step - loss: 0.0456 - accuracy: 0.9865 - val_loss: 0.0331 - val_accuracy: 0.9888\n",
            "Epoch 6/12\n",
            "60000/60000 [==============================] - 141s 2ms/step - loss: 0.0414 - accuracy: 0.9876 - val_loss: 0.0285 - val_accuracy: 0.9909\n",
            "Epoch 7/12\n",
            "60000/60000 [==============================] - 141s 2ms/step - loss: 0.0377 - accuracy: 0.9887 - val_loss: 0.0284 - val_accuracy: 0.9910\n",
            "Epoch 8/12\n",
            "60000/60000 [==============================] - 141s 2ms/step - loss: 0.0342 - accuracy: 0.9897 - val_loss: 0.0266 - val_accuracy: 0.9905\n",
            "Epoch 9/12\n",
            "60000/60000 [==============================] - 141s 2ms/step - loss: 0.0299 - accuracy: 0.9910 - val_loss: 0.0278 - val_accuracy: 0.9912\n",
            "Epoch 10/12\n",
            "60000/60000 [==============================] - 141s 2ms/step - loss: 0.0285 - accuracy: 0.9910 - val_loss: 0.0276 - val_accuracy: 0.9916\n",
            "Epoch 11/12\n",
            "60000/60000 [==============================] - 140s 2ms/step - loss: 0.0273 - accuracy: 0.9915 - val_loss: 0.0281 - val_accuracy: 0.9914\n",
            "Epoch 12/12\n",
            "60000/60000 [==============================] - 141s 2ms/step - loss: 0.0245 - accuracy: 0.9926 - val_loss: 0.0240 - val_accuracy: 0.9925\n"
          ],
          "name": "stdout"
        },
        {
          "output_type": "execute_result",
          "data": {
            "text/plain": [
              "<keras.callbacks.callbacks.History at 0x7f6d36e17940>"
            ]
          },
          "metadata": {
            "tags": []
          },
          "execution_count": 16
        }
      ]
    },
    {
      "cell_type": "code",
      "metadata": {
        "id": "s0nWblSvcuB8",
        "colab_type": "code",
        "colab": {
          "base_uri": "https://localhost:8080/",
          "height": 51
        },
        "outputId": "1ff7b7c4-b234-4dc9-e7aa-3582fa67b6a8"
      },
      "source": [
        "score = model.evaluate(x_test, y_test, verbose=0)\n",
        "print('Test loss:', score[0])\n",
        "print('Test accuracy:', score[1])"
      ],
      "execution_count": 17,
      "outputs": [
        {
          "output_type": "stream",
          "text": [
            "Test loss: 0.023963537196063863\n",
            "Test accuracy: 0.9925000071525574\n"
          ],
          "name": "stdout"
        }
      ]
    },
    {
      "cell_type": "code",
      "metadata": {
        "id": "smxMBTo4eJ6Y",
        "colab_type": "code",
        "colab": {}
      },
      "source": [
        "model_json = model.to_json()\n",
        "with open(\"model.json\", \"w\") as json_file:\n",
        "    json_file.write(model_json)\n",
        "# serialize weights to HDF5\n",
        "model.save_weights(\"model.h5\")"
      ],
      "execution_count": 0,
      "outputs": []
    },
    {
      "cell_type": "code",
      "metadata": {
        "id": "183zpuRDfR1Q",
        "colab_type": "code",
        "colab": {}
      },
      "source": [
        "from google.colab import files\n",
        "files.download(\"model.h5\")\n",
        "files.download(\"model.json\")"
      ],
      "execution_count": 0,
      "outputs": []
    },
    {
      "cell_type": "code",
      "metadata": {
        "id": "dvfIHbBjevsn",
        "colab_type": "code",
        "colab": {
          "base_uri": "https://localhost:8080/",
          "height": 122
        },
        "outputId": "95fc1e31-b6bb-47d2-baf3-5562c62bfa0e"
      },
      "source": [
        "from google.colab import drive\n",
        "drive.mount('/content/drive')"
      ],
      "execution_count": 19,
      "outputs": [
        {
          "output_type": "stream",
          "text": [
            "Go to this URL in a browser: https://accounts.google.com/o/oauth2/auth?client_id=947318989803-6bn6qk8qdgf4n4g3pfee6491hc0brc4i.apps.googleusercontent.com&redirect_uri=urn%3aietf%3awg%3aoauth%3a2.0%3aoob&response_type=code&scope=email%20https%3a%2f%2fwww.googleapis.com%2fauth%2fdocs.test%20https%3a%2f%2fwww.googleapis.com%2fauth%2fdrive%20https%3a%2f%2fwww.googleapis.com%2fauth%2fdrive.photos.readonly%20https%3a%2f%2fwww.googleapis.com%2fauth%2fpeopleapi.readonly\n",
            "\n",
            "Enter your authorization code:\n",
            "··········\n",
            "Mounted at /content/drive\n"
          ],
          "name": "stdout"
        }
      ]
    }
  ]
}